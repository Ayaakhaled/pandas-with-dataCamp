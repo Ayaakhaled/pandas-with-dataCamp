{
 "cells": [
  {
   "cell_type": "markdown",
   "metadata": {},
   "source": [
    ".head() returns the first few rows (the “head” of the DataFrame)."
   ]
  },
  {
   "cell_type": "markdown",
   "metadata": {},
   "source": [
    ".info() shows information on each of the columns, such as the data type and number of missing values.\n"
   ]
  },
  {
   "cell_type": "markdown",
   "metadata": {},
   "source": [
    ".shape returns the number of rows and columns of the DataFrame.\n"
   ]
  },
  {
   "cell_type": "markdown",
   "metadata": {},
   "source": [
    ".describe() calculates a few summary statistics for each column."
   ]
  },
  {
   "cell_type": "raw",
   "metadata": {},
   "source": [
    "# Parts of a DataFrame\n",
    "To better understand DataFrame objects, it's useful to know that they consist of three components, stored as attributes:\n",
    "\n",
    ".values: A two-dimensional NumPy array of values.\n",
    "\n",
    "\n",
    ".columns: An index of columns: the column names.\n",
    "\n",
    "\n",
    ".index: An index for the rows: either row numbers or row names."
   ]
  },
  {
   "cell_type": "markdown",
   "metadata": {},
   "source": [
    "__ there is no attribute for row : instead we use df.index to return the name or the index of the dataframe __"
   ]
  },
  {
   "cell_type": "markdown",
   "metadata": {},
   "source": [
    "# Sorting rows\n"
   ]
  },
  {
   "cell_type": "markdown",
   "metadata": {},
   "source": [
    "By combining .sort_values() with .head(), you can answer questions in the form, \"What are the top cases where…?\"."
   ]
  },
  {
   "cell_type": "raw",
   "metadata": {},
   "source": [
    "Sort on …\t                                 Syntax\n",
    "\n",
    "one column\t                                df.sort_values(\"column\")\n",
    "\n",
    "multiple columns\t                        df.sort_values(['column1','column2'])"
   ]
  },
  {
   "cell_type": "markdown",
   "metadata": {},
   "source": [
    "## Subsetting columns\n"
   ]
  },
  {
   "cell_type": "markdown",
   "metadata": {},
   "source": [
    "df[\"col_a\"] : only select one column "
   ]
  },
  {
   "cell_type": "markdown",
   "metadata": {},
   "source": [
    "df[['col_a','col_b']] : select multiple columns "
   ]
  },
  {
   "cell_type": "markdown",
   "metadata": {},
   "source": [
    "## Subsetting rows\n"
   ]
  },
  {
   "cell_type": "markdown",
   "metadata": {},
   "source": [
    "A large part of data science is about finding which bits of your dataset are interesting. One of the simplest techniques for this is to find a subset of rows that match some criteria. This is sometimes known as ##filtering rows or ##selecting rows.\n",
    "\n"
   ]
  },
  {
   "cell_type": "raw",
   "metadata": {},
   "source": [
    "1)  use relational operators to return True or False\n",
    "\n",
    "df['column'] > < == != value : that return true or false \n",
    "\n",
    "df[df['column'] < > == != value ] : that return dataframe with matched values \n",
    "\n",
    "notes : \n",
    "df[df['column'] == 'text'] \n",
    "df[df['column'] == 'date']\n"
   ]
  },
  {
   "cell_type": "raw",
   "metadata": {},
   "source": [
    "2)  filter for multiple conditions at once by using the \"bitwise and\" operator, &. // or | \n",
    "\n",
    "example : \n",
    "dogs[(dogs[\"height_cm\"] > 60) & (dogs[\"color\"] == \"tan\")]\n",
    "dogs[(dogs[\"height_cm\"] > 60) | (dogs[\"color\"] == \"tan\")]\n",
    "\n"
   ]
  },
  {
   "cell_type": "markdown",
   "metadata": {},
   "source": [
    "# Subsetting rows by categorical variables\n"
   ]
  },
  {
   "cell_type": "raw",
   "metadata": {},
   "source": [
    "Subsetting data based on a categorical variable often involves using the \"or\" operator (|) to select rows from multiple categories. This can get tedious when you want all states in one of three different regions, for example. Instead, use the .isin() method, which will allow you to tackle this problem by writing one condition instead of three separate ones.\n",
    "\n",
    "colors = [\"brown\", \"black\", \"tan\"]\n",
    "condition = dogs[\"color\"].isin(colors)\n",
    "dogs[condition]\n",
    "\n",
    "or in online code \n",
    "df[df['column_name'].isin(list)\n",
    "\n",
    "isin take list as argument "
   ]
  },
  {
   "cell_type": "markdown",
   "metadata": {},
   "source": [
    "# New columns\n"
   ]
  },
  {
   "cell_type": "markdown",
   "metadata": {},
   "source": [
    "This has many names, such as transforming, mutating, and feature engineering.\n",
    "You can create new columns from scratch, but it is also common to derive them from other columns, for example, by adding columns together or by changing their units.\n",
    "\n"
   ]
  },
  {
   "cell_type": "raw",
   "metadata": {},
   "source": [
    "df['new_column_name'] = df['existing column'] and some operations \n",
    "df['new_column_name'] = values "
   ]
  },
  {
   "cell_type": "raw",
   "metadata": {},
   "source": [
    "To count the number of rows of each column\n",
    " df['column'].count()\n",
    "    \n",
    "https://stackoverflow.com/questions/15943769/how-do-i-get-the-row-count-of-a-pandas-dataframe"
   ]
  },
  {
   "cell_type": "markdown",
   "metadata": {},
   "source": [
    "# Summary statistics\n"
   ]
  },
  {
   "cell_type": "markdown",
   "metadata": {},
   "source": [
    "mean, median, minimum, maximum, and standard deviation are summary statistics. Calculating summary statistics allows you to get a better sense of your data, even if there's a lot of it."
   ]
  },
  {
   "cell_type": "markdown",
   "metadata": {},
   "source": [
    "## Summarizing dates\n",
    "Summary statistics can also be calculated on date columns that have values with the data type datetime64. Some summary statistics — like mean — don't make a ton of sense on dates, but others are super helpful, for example, minimum and maximum, which allow you to see what time range your data covers."
   ]
  },
  {
   "cell_type": "markdown",
   "metadata": {},
   "source": [
    "Print the maximum of the date column : the newest / young \n",
    "\n",
    "\n",
    "Print the minimum of the date column : the oldest "
   ]
  },
  {
   "cell_type": "markdown",
   "metadata": {},
   "source": [
    "## The .agg() \n",
    "\n",
    "method allows you to apply your own custom functions to a DataFrame, as well as apply functions to more than one column of a DataFrame at once, making your aggregations super-efficient. For example,\n",
    "\n",
    "df['column'].agg(function)\n",
    "\n",
    "\n",
    "df[['column1','column2'].agg([function1,finction2'])"
   ]
  },
  {
   "cell_type": "markdown",
   "metadata": {},
   "source": [
    "## Cumulative statistics\n",
    "Cumulative statistics can also be helpful in tracking summary statistics over time.\n",
    "\n",
    "Not all functions that calculate on columns return a single number. Some, like the cumulative statistic functions, return a whole column.\n",
    "\n"
   ]
  },
  {
   "cell_type": "markdown",
   "metadata": {},
   "source": [
    "## Drop duplicates \n",
    "Removing duplicates is an essential skill to get accurate counts"
   ]
  },
  {
   "cell_type": "raw",
   "metadata": {},
   "source": [
    "df.drop_duplicates(subset = 'column_name')\n",
    "\n",
    "df.drop_duplicates(subset = ['C1','C2'])\n",
    "\n",
    "example : \n",
    "    \n",
    "# Subset the rows where is_holiday is True and drop duplicate dates\n",
    "holiday_dates = sales[sales['is_holiday']].drop_duplicates('date')\n"
   ]
  },
  {
   "cell_type": "markdown",
   "metadata": {},
   "source": [
    "df['column'].value_colunts() \n",
    "df['column'].value_colunts(sort = True) \n",
    "\n",
    "#Count the proportion \n",
    "store_props = store_types['type'].value_counts(normalize = True)\n",
    "dept_props_sorted = store_depts['departments'].value_counts(sort=True, normalize=True)\n",
    "\n",
    "\n"
   ]
  },
  {
   "cell_type": "markdown",
   "metadata": {},
   "source": [
    "## group by "
   ]
  },
  {
   "cell_type": "raw",
   "metadata": {},
   "source": [
    "While .groupby() is useful, you can calculate grouped summary statistics without it.\n",
    "\n",
    "note : \n",
    ".agg() method is useful to compute multiple statistics on multiple variables. It also works with grouped data. NumPy, which is imported as np, has many different summary statistics functions, including: np.min, np.max, np.mean, and np.median."
   ]
  },
  {
   "cell_type": "markdown",
   "metadata": {},
   "source": [
    "## Pivot tables "
   ]
  },
  {
   "cell_type": "markdown",
   "metadata": {},
   "source": [
    ".pivot_table() method is just an alternative to .groupby().\n",
    "\n",
    "the defult of pivot table is the mean fun \n",
    "\n",
    "sytax \n",
    "df.pivot_table( value = 'c_name' , index = 'c1#to grop by' , columns = 'c2' , aggfun = [ f1 , f2 ..] , \n",
    "                fill_na = 0 , margins = True )"
   ]
  },
  {
   "cell_type": "raw",
   "metadata": {},
   "source": [
    "The .pivot_table() method has several useful arguments, including fill_value and margins.\n",
    "\n",
    "fill_value replaces missing values with a real value (known as imputation). when you pivoted by two variables, but also wanted to pivot by each of those variables separately: it gives the row and column totals of the pivot table contents."
   ]
  },
  {
   "cell_type": "markdown",
   "metadata": {},
   "source": [
    "## Set index "
   ]
  },
  {
   "cell_type": "raw",
   "metadata": {},
   "source": [
    "df.set_index('column') : the column you want to choose to be index , The benefit is that multi-level indexes make it more natural to reason about nested categorical variables.\n",
    "df.set_index(['c1','c2',...]) : multi level index \n",
    "df.sort_index(['c1','c2.] , ascending = [True , False])\n",
    "    \n",
    "    \n",
    "df.reset_index() : to reset the set_index \n",
    "\n",
    "    \n",
    "df.reset_index(drop = True ) : to drop the last index "
   ]
  },
  {
   "cell_type": "raw",
   "metadata": {},
   "source": [
    "example \n",
    "Reset the index of temperatures_ind, keeping its contents.\n",
    "temperatures_ind.reset_index()\n",
    "\n",
    "\n",
    "Reset the index of temperatures_ind, dropping its contents\n",
    "temperatures_ind.reset_index(drop = True)\n"
   ]
  },
  {
   "cell_type": "markdown",
   "metadata": {},
   "source": [
    "## selecting rows / columns "
   ]
  },
  {
   "cell_type": "raw",
   "metadata": {},
   "source": [
    "df[df['column'].isin(['v1', 'v2'])]"
   ]
  },
  {
   "cell_type": "markdown",
   "metadata": {},
   "source": [
    "## Subsetting with .loc[]\n"
   ]
  },
  {
   "cell_type": "raw",
   "metadata": {},
   "source": [
    "setting an index allows more concise code for subsetting for rows of a categorical variable via .loc[]\n",
    "\n",
    "\n",
    ".loc[]: a subsetting method that accepts index values. When you pass it a single argument, it will take a subset of rows.\n",
    "\n",
    "The code for subsetting using .loc[] can be easier to read than standard square bracket subsetting, which can make your code less burdensome to maintain."
   ]
  },
  {
   "cell_type": "code",
   "execution_count": null,
   "metadata": {},
   "outputs": [],
   "source": []
  }
 ],
 "metadata": {
  "kernelspec": {
   "display_name": "Python 3",
   "language": "python",
   "name": "python3"
  },
  "language_info": {
   "codemirror_mode": {
    "name": "ipython",
    "version": 3
   },
   "file_extension": ".py",
   "mimetype": "text/x-python",
   "name": "python",
   "nbconvert_exporter": "python",
   "pygments_lexer": "ipython3",
   "version": "3.7.6"
  }
 },
 "nbformat": 4,
 "nbformat_minor": 4
}
